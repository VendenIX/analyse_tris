{
 "cells": [
  {
   "cell_type": "markdown",
   "metadata": {},
   "source": [
    "<center><h1>Analyse du Tri Paquet</h1></center>"
   ]
  },
  {
   "cell_type": "markdown",
   "metadata": {},
   "source": [
    "Dans ce document nous analyser les résultats de l'algorithme Tri Paquet afin de déterminer les conditions dans lesquelles l'algorithme est le plus performant."
   ]
  },
  {
   "cell_type": "markdown",
   "metadata": {},
   "source": [
    "## Analyse théorique "
   ]
  },
  {
   "cell_type": "markdown",
   "metadata": {},
   "source": [
    "Avant d'analyser le résultat de nos expérimentations sur cet algorithme, nous allons étudier la complexité du Tri Paquet."
   ]
  },
  {
   "cell_type": "markdown",
   "metadata": {},
   "source": [
    "Algorithme TriPaquet :\n",
    "\n",
    "    fonction triPaquet(tableau T, taille N,borneInf,borneSup):\n",
    "            longueur = (borneSup-borneInf + 1)//5 \n",
    "            paquet[5][]\n",
    "            res = []\n",
    "            \n",
    "            // On classe les éléments dans les paquets\n",
    "            \n",
    "            Pour i allant 0 à N-1:\n",
    "                nbList = partieEntière(5*(T[i] - borneInf)/(borneSup-borneInf))\n",
    "                \n",
    "                paquet[nbList].add(T[i])\n",
    "                   \n",
    "            // On trie les paquets puis les concatène à la liste finale\n",
    "            Pour i allant de 0 à 5 :\n",
    "                QuickSort(paquet[i])\n",
    "                concatene(res, paquet[i])\n",
    "            retourner res"
   ]
  },
  {
   "cell_type": "markdown",
   "metadata": {},
   "source": [
    "La fonction triPaquet effectue deux boucles \"Pour\".\n",
    "\n",
    "La première boucle sert à trier tous les éléments dans différents tas, on parcourt alors tous les éléments, faisant ainsi une boucle avec n tours.\n",
    "\n",
    "Puis dans la seconde boucle, nous trions les éléments de chaque liste puis on les reconcatene. Si m est notre nombre de liste, on effectue m fois un tri rapide sur une liste de taille m/n. Ainsi la complexité de cette boucle est en O(n*log(n/m)).\n",
    "\n",
    "Pour conclure, nous pouvons dire que la complexité en temps est de l'ordre de n*log(n/m).\n",
    "\n",
    "La complexité en espace est elle de l'ordre de O(n) puisque qu'on recrée m listes de taille n/m.\n",
    "\n",
    "L'avantage de cet algorithme c'est que l'on peut parallèliser les QuickSort et ainsi gagner du temps.\n"
   ]
  }
 ],
 "metadata": {
  "kernelspec": {
   "display_name": "Python 3 (ipykernel)",
   "language": "python",
   "name": "python3"
  },
  "language_info": {
   "codemirror_mode": {
    "name": "ipython",
    "version": 3
   },
   "file_extension": ".py",
   "mimetype": "text/x-python",
   "name": "python",
   "nbconvert_exporter": "python",
   "pygments_lexer": "ipython3",
   "version": "3.8.10"
  }
 },
 "nbformat": 4,
 "nbformat_minor": 4
}
