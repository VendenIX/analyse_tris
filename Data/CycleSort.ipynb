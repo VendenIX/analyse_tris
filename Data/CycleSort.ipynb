{
 "cells": [
  {
   "cell_type": "markdown",
   "metadata": {},
   "source": [
    "<center><h1>Analyse du Tri par cycle</h1></center>"
   ]
  },
  {
   "cell_type": "markdown",
   "metadata": {},
   "source": [
    "Dans ce document nous analyser les résultats de l'algorithme Tri cyclique afin de déterminer les conditions dans lesquelles l'algorithme est le plus performant."
   ]
  },
  {
   "cell_type": "markdown",
   "metadata": {},
   "source": [
    "## Analyse théorique "
   ]
  },
  {
   "cell_type": "markdown",
   "metadata": {},
   "source": [
    "Avant d'analyser le résultat de nos expérimentations sur cet algorithme, nous allons étudier la complexité du Tri par cycle"
   ]
  },
  {
   "cell_type": "markdown",
   "metadata": {},
   "source": [
    "Algorithme de tri par cycle :\n",
    "    \n",
    "    fonction triCycle(tableau T):\n",
    "    n = taille(T)\n",
    "    Pour i de 0 à n-2 faire\n",
    "        minimum = T[i]\n",
    "        indexMin = i\n",
    "        Pour j de i+1 à n-1 faire\n",
    "            Si T[j] < minimum alors\n",
    "                minimum = T[j]\n",
    "                indexMin = j\n",
    "            Fin Si\n",
    "        Fin Pour\n",
    "        Si indexMin != i Alors\n",
    "            T[indexMin] = T[i]\n",
    "            T[i] = minimum\n",
    "        Fin Si\n",
    "    Fin Pour\n",
    "    renvoyer T\n"
   ]
  },
  {
   "cell_type": "markdown",
   "metadata": {},
   "source": [
    "L'algorithme de tri par cycles consiste à sélectionner le plus petit élément dans le tableau non trié et à le placer à sa place correcte dans le tableau trié en échangeant sa position avec l'élément à cette position. Ensuite, le processus est répété pour le reste du tableau. Le tri par cycles utilise deux boucles imbriquées pour parcourir le tableau et trouver le plus petit élément dans chaque itération.\n",
    "\n",
    "La complexité de l'algorithme de tri par cycle en temps dépend du nombre d'écritures effectuées dans le tableau pour ordonner les éléments. Dans le pire des cas, où le tableau est inversé, chaque élément devra être déplacé une fois pour atteindre sa position finale, ce qui donne une complexité en O(n²). Cependant, dans le meilleur des cas, où le tableau est déjà trié, la complexité est linéaire en O(n).\n",
    "\n",
    "La compléxité en espace est O(1) car c'est un algorithme de tri en place.\n",
    "\n",
    "$$T(n) = n^2$$\n",
    "\n",
    "\n"
   ]
  },
  {
   "cell_type": "markdown",
   "metadata": {},
   "source": [
    "## Analyse des résultats de Tri par cycle"
   ]
  },
  {
   "cell_type": "markdown",
   "metadata": {},
   "source": [
    "Dans cette partie nous allons analyser l'efficacité constatée de l'algorithme de tri par cycle"
   ]
  }
 ],
 "metadata": {
  "kernelspec": {
   "display_name": "Python 3 (ipykernel)",
   "language": "python",
   "name": "python3"
  },
  "language_info": {
   "codemirror_mode": {
    "name": "ipython",
    "version": 3
   },
   "file_extension": ".py",
   "mimetype": "text/x-python",
   "name": "python",
   "nbconvert_exporter": "python",
   "pygments_lexer": "ipython3",
   "version": "3.8.10"
  }
 },
 "nbformat": 4,
 "nbformat_minor": 4
}
