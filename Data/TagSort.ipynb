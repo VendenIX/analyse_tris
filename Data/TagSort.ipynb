{
 "cells": [
  {
   "cell_type": "markdown",
   "metadata": {},
   "source": [
    "<center><h1>Analyse du TagSort</h1></center>"
   ]
  },
  {
   "cell_type": "markdown",
   "metadata": {},
   "source": [
    "Dans ce document nous analyser les résultats de l'algorithme TagSort afin de déterminer les conditions dans lesquelles l'algorithme est le plus performant."
   ]
  },
  {
   "cell_type": "markdown",
   "metadata": {},
   "source": [
    "## Analyse théorique "
   ]
  },
  {
   "cell_type": "markdown",
   "metadata": {},
   "source": [
    "Avant d'analyser le résultat de nos expérimentations sur cet algorithme, nous allons étudier la complexité du TagSort.\n",
    "\n",
    "Le tagSort est un algorithme de tri spécial car il ne retourne pas le tableau trié, mais retourne un tableau des indices triés du tableau.\n",
    "L'intérêt est de gagner du temps en ne recopiant pas les objets comme nous sommes obligés de le faire dans certains langages."
   ]
  },
  {
   "cell_type": "markdown",
   "metadata": {},
   "source": [
    "Algorithme TagSort :\n",
    "\n",
    "    fonction tagSort(tableau T, taille N):\n",
    "        tagList = []\n",
    "        Pour i allant de 0 à N-1 Faire\n",
    "            tagList[i] = i\n",
    "        Pour i allant de 0 à N-2 Faire\n",
    "            min = i\n",
    "            Pour j allant de i+1 à N-1 Faire\n",
    "                Si T[tagList[j]] < T[tagList[min]] Alors\n",
    "                    min = j\n",
    "            Si min != i Alors\n",
    "                echanger(tagList[i],tagList[min])\n",
    "        retourner tagList"
   ]
  },
  {
   "cell_type": "markdown",
   "metadata": {},
   "source": [
    "La fonction TagSort utilise un tri par Selection ainsi sa complexité est identique, c'est à dire que la fonction réalise de boucle \"Pour\" imbriquées qui parcourent le tableau ainsi la complexité est de l'ordre de O(n²) où n est la taille du tableau à trier.\n",
    "\n",
    "Pour ce qui est de la complexité en espace, elle est en O(n) puisqu'on crée un tableau d'entier de longueur n.\n",
    "\n",
    "On ne remarque pas l'efficacité de cette algorithme cependant lorsque le tableau T contient des objets lourds, on gagne du temps en recopiant des int et pas des objets."
   ]
  }
 ],
 "metadata": {
  "kernelspec": {
   "display_name": "Python 3 (ipykernel)",
   "language": "python",
   "name": "python3"
  },
  "language_info": {
   "codemirror_mode": {
    "name": "ipython",
    "version": 3
   },
   "file_extension": ".py",
   "mimetype": "text/x-python",
   "name": "python",
   "nbconvert_exporter": "python",
   "pygments_lexer": "ipython3",
   "version": "3.8.10"
  }
 },
 "nbformat": 4,
 "nbformat_minor": 4
}
