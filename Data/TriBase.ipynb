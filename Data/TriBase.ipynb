{
 "cells": [
  {
   "cell_type": "markdown",
   "metadata": {},
   "source": [
    "<center><h1>Analyse du Tri par Base</h1></center>"
   ]
  },
  {
   "cell_type": "markdown",
   "metadata": {},
   "source": [
    "Dans ce document nous analyser les résultats de l'algorithme Tri par base afin de déterminer les conditions dans lesquelles l'algorithme est le plus performant."
   ]
  },
  {
   "cell_type": "markdown",
   "metadata": {},
   "source": [
    "## Analyse théorique "
   ]
  },
  {
   "cell_type": "markdown",
   "metadata": {},
   "source": [
    "Avant d'analyser le résultat de nos expérimentations sur cet algorithme, nous allons étudier la complexité du Tri par base."
   ]
  },
  {
   "cell_type": "markdown",
   "metadata": {},
   "source": [
    "Algorithme TriBase :\n",
    "\n",
    "    fonction triBase(tableau T, taille N):\n",
    "          Pour i allant de 1 a N :\n",
    "              triFusion(T[:][i],N)"
   ]
  },
  {
   "cell_type": "markdown",
   "metadata": {},
   "source": [
    "Ici notre fonction triBase utilise un algorithme de tri de type stable c'est à dire que deux éléments de même valeur ne changeront pas de place lors du tri. Pour cette étude nous avons choisi de prendre l'algorithme TriFusion.\n",
    "\n",
    "Ainsi, N étant le nombre d'elements discriminants, par exemple pour les entiers inférieurs à 9999 on a N = 4 car on comparera les unites puis les dizaines et ainsi de suite, on a une complexité de O(N*T(m)) où T(m) est la complexité de l'algorithme de tri stable choisi pour un tableau de taille m.\n",
    "\n",
    "Cette complexité s'explique par le fait qu'on effectue N tours de boucle avec l'algorithme de tri stable choisi.\n",
    "\n"
   ]
  }
 ],
 "metadata": {
  "kernelspec": {
   "display_name": "Python 3 (ipykernel)",
   "language": "python",
   "name": "python3"
  },
  "language_info": {
   "codemirror_mode": {
    "name": "ipython",
    "version": 3
   },
   "file_extension": ".py",
   "mimetype": "text/x-python",
   "name": "python",
   "nbconvert_exporter": "python",
   "pygments_lexer": "ipython3",
   "version": "3.8.10"
  }
 },
 "nbformat": 4,
 "nbformat_minor": 4
}
