{
 "cells": [
  {
   "cell_type": "markdown",
   "metadata": {},
   "source": [
    "<center><h1>Analyse du Strand Sort</h1></center>"
   ]
  },
  {
   "cell_type": "raw",
   "metadata": {},
   "source": [
    "Dans ce document nous analyser les résultats de l'algorithme Strand Sort afin de déterminer les conditions dans lesquelles l'algorithme est le plus performant."
   ]
  },
  {
   "cell_type": "markdown",
   "metadata": {},
   "source": [
    "## Analyse théorique "
   ]
  },
  {
   "cell_type": "markdown",
   "metadata": {},
   "source": [
    "Avant d'analyser le résultat de nos expérimentations sur cet algorithme, nous allons étudier la complexité du Strand Sort"
   ]
  },
  {
   "cell_type": "markdown",
   "metadata": {},
   "source": [
    "Algorithme Strand Sort :\n",
    "    \n",
    "    fonction StrandSort(tableau A):\n",
    "        listeFinale = liste vide\n",
    "        fonction StrandSortIterative(tableau A):\n",
    "            listeIntermediaire = liste vide      \n",
    "            k = 0\n",
    "            si A est vide:\n",
    "                retourner\n",
    "            ajouter le premier element de A à listeIntermediaire\n",
    "            retirer le premier element de A\n",
    "            index = 0\n",
    "            Pour j allant de 0 à taille:\n",
    "                Si (A[j] > listIntermediaire[index]):\n",
    "                    ajouter A[j] à listeIntermediaire\n",
    "                    retirer A[j]\n",
    "                    j -= 1\n",
    "                    index += 1\n",
    "            Si k == 0 :\n",
    "                Pour i allant de 0 à listeIntermediaire.taille():\n",
    "                      ajouter listeIntermediaire[i] à listeFinale\n",
    "                      k = k + 1\n",
    "        StrandsortIterative(A)\n",
    "        retourner listeFinale"
   ]
  },
  {
   "cell_type": "markdown",
   "metadata": {},
   "source": [
    "La fonction StrandSort utilise de la récursion et deux sous-listes pour trier son tableau. Lors d'une boucle, l'algorithme prend le premier élément du tableau et l'ajoute à une sous-liste, puis compare cet élément aux autres du tableau et ajoute les éléments plus grand dans la sous-liste. Une fois tout les éléments parcourus, cette sous-liste est vidée dans une autre sous-liste qui sera le tableau trié.\n",
    " \n",
    "Le processus se répète tant que le tableau originel n'est pas vide.\n",
    "\n",
    "La complexité est donc très variable selon l'ordre de tri, le meilleur cas étant O(n) quand le tableau est déjà trié et le pire cas étant O(n²) quand le tableau est trié dans l'ordre inverse.\n"
   ]
  }
 ],
 "metadata": {
  "kernelspec": {
   "display_name": "Python 3 (ipykernel)",
   "language": "python",
   "name": "python3"
  },
  "language_info": {
   "codemirror_mode": {
    "name": "ipython",
    "version": 3
   },
   "file_extension": ".py",
   "mimetype": "text/x-python",
   "name": "python",
   "nbconvert_exporter": "python",
   "pygments_lexer": "ipython3",
   "version": "3.8.10"
  }
 },
 "nbformat": 4,
 "nbformat_minor": 4
}
