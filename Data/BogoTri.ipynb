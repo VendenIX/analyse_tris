{
 "cells": [
  {
   "cell_type": "markdown",
   "metadata": {},
   "source": [
    "<center><h1>Analyse du Bogo-tri</h1></center>"
   ]
  },
  {
   "cell_type": "markdown",
   "metadata": {},
   "source": [
    "Dans ce document nous analyser les résultats de l'algorithme Bogo-tri afin de déterminer les conditions dans lesquelles l'algorithme est le plus performant."
   ]
  },
  {
   "cell_type": "markdown",
   "metadata": {},
   "source": [
    "## Analyse théorique "
   ]
  },
  {
   "cell_type": "markdown",
   "metadata": {},
   "source": [
    "Avant d'analyser le résultat de nos expérimentations sur cet algorithme, nous allons étudier la complexité du Bogo-tri."
   ]
  },
  {
   "cell_type": "markdown",
   "metadata": {},
   "source": [
    "Algorithme Bogo-tri :\n",
    "\n",
    "    fonction TableauNonTrié(tableau T, entier taille):\n",
    "        Pour i allant de 1 à taille-1 Faire\n",
    "            Si T[i] > T[i+1] Alors\n",
    "                Retourner Vrai\n",
    "        Retourner Faux\n",
    "    \n",
    "    fonction bogoTri(tableau T, entier taille):\n",
    "       Tant que TableauNonTrié(T,taille) Faire\n",
    "           mélange(T)"
   ]
  },
  {
   "cell_type": "markdown",
   "metadata": {},
   "source": [
    "La fonction bogoTri utilise deux fonctions la fonction TableauNonTrié, qui a dans le pire des cas une complexité en O(n) et dans le meilleur O(1), et la fonction mélange qui ici n'a pas été défini.\n",
    "\n",
    "La fonction bogoTri effectue elle, une boucle jusqu'à ce que le tableau soit trié. Or, comme elle teste des combinaisons au hasard et qu'il existe n! combinaisons possibles, où n est le nombre d'éléments distincts du tableau, on a 1/n! chance de tomber sur le tableau trié.\n",
    "    \n",
    "Ainsi, l'algorithme a une complexité allant de O(n) à l'infini. Etant un algorithme de type Las Vegas il est difficile de déterminer le temps moyen."
   ]
  },
  {
   "cell_type": "markdown",
   "metadata": {},
   "source": [
    "## Analyse des résultats de Bogo-tri"
   ]
  },
  {
   "cell_type": "markdown",
   "metadata": {},
   "source": [
    "Dans cette partie nous allons analyser l'efficacité constatée de l'algorithme Bogo-tri."
   ]
  }
 ],
 "metadata": {
  "kernelspec": {
   "display_name": "Python 3 (ipykernel)",
   "language": "python",
   "name": "python3"
  },
  "language_info": {
   "codemirror_mode": {
    "name": "ipython",
    "version": 3
   },
   "file_extension": ".py",
   "mimetype": "text/x-python",
   "name": "python",
   "nbconvert_exporter": "python",
   "pygments_lexer": "ipython3",
   "version": "3.8.10"
  }
 },
 "nbformat": 4,
 "nbformat_minor": 4
}
