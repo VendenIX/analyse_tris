{
 "cells": [
  {
   "cell_type": "markdown",
   "metadata": {},
   "source": [
    "<center><h1>Analyse du Tri Cocktail\n",
    "    </h1></center>"
   ]
  },
  {
   "cell_type": "markdown",
   "metadata": {},
   "source": [
    "Dans ce document nous analyser les résultats de l'algorithme Tri Cocktail afin de déterminer les conditions dans lesquelles l'algorithme est le plus performant."
   ]
  },
  {
   "cell_type": "markdown",
   "metadata": {},
   "source": [
    "## Analyse théorique "
   ]
  },
  {
   "cell_type": "markdown",
   "metadata": {},
   "source": [
    "Avant d'analyser le résultat de nos expérimentations sur cet algorithme, nous allons étudier la complexité du Tri Cocktail."
   ]
  },
  {
   "cell_type": "markdown",
   "metadata": {},
   "source": [
    "Algorithme TriCocktail:\n",
    "   \n",
    "\n",
    "    fonction triCocktail(tableau T):\n",
    "        échangé = vrai\n",
    "        Tant que échange = vrai:\n",
    "            echanger = faux\n",
    "            \n",
    "            Pour tout i entre 0 et (taille(T) - 2):\n",
    "                si T[i] > T[i+1]:\n",
    "                    Echanger(T[i],T[i+1])\n",
    "                    echanger=vrai\n",
    "            Pour tout i (décroissant) entre (taille(T) -2) et 0\n",
    "                si T[i] > T[i+1]:\n",
    "                    Echanger(T[i],T[i+1])\n",
    "                    echanger=vrai\n",
    "        "
   ]
  },
  {
   "cell_type": "markdown",
   "metadata": {},
   "source": [
    "## Analyse des résultats de Tri Cocktail"
   ]
  },
  {
   "cell_type": "markdown",
   "metadata": {},
   "source": [
    "Le TriCocktail est un algorithme très simple, qui consiste à parcourir le tableau en deux passes:\n",
    "\n",
    "La première passe qui va de gauche à droite place les éléments plus grands que leurs voisins immédiat vers la droite, de sorte à ce qu'à la fin du passage, l'élément le plus grand soit à sa place au fond du tableau.\n",
    "\n",
    "La deuxième passe fait exactement l'inverse en passant de gauche à droite et place les éléments plus petits que leurs voisins immédiat vers la gauche. Cette fois-ci l'élément le plus petit se retrouve à sa place au début du tableau.\n",
    "\n",
    "Une passe permet de mettre un élément à sa place et l'algorithme parcours chaque élément de son tableau lors d'une passe. Par conséquent, il y a n * n répétitions dans tout les cas sauf 1, c'est à dire le tableau trié.\n",
    "\n",
    "Cet algorithme a donc une complexité en temps en moyenne identique à sa complexité dans le pire des cas, c'est-à-dire 0(n²)\n",
    "\n",
    "Le TriCocktail ressemble au tri à Bulles, où la différence est que le triCocktail passe de gauche à droite puis de  droite à gauche au lieu d'uniquement passer de gauche à droite. Ce qui rend le triCocktail plus efficace.\n",
    "\n",
    "Il est possible d'optimiser l'algorithme en ignorant la partie déjà triée en redéfinissant la limite dans les deux for:\n",
    "\n",
    "\n",
    "    fonction triCocktail(tableau T):\n",
    "        échangé = vrai\n",
    "        début = 0\n",
    "        fin = taille(T) - 2\n",
    "        Tant que échange = vrai:\n",
    "            echanger = faux\n",
    "            \n",
    "            Pour tout i entre debut et fin:\n",
    "                si T[i] > T[i+1]:\n",
    "                    Echanger(T[i],T[i+1])\n",
    "                    echanger=vrai\n",
    "            fin -= 1     \n",
    "            Pour tout i (décroissant) entre fin et début\n",
    "                si T[i] > T[i+1]:\n",
    "                    Echanger(T[i],T[i+1])\n",
    "                    echanger=vrai\n",
    "            debut +=1\n"
   ]
  }
 ],
 "metadata": {
  "kernelspec": {
   "display_name": "Python 3 (ipykernel)",
   "language": "python",
   "name": "python3"
  },
  "language_info": {
   "codemirror_mode": {
    "name": "ipython",
    "version": 3
   },
   "file_extension": ".py",
   "mimetype": "text/x-python",
   "name": "python",
   "nbconvert_exporter": "python",
   "pygments_lexer": "ipython3",
   "version": "3.8.10"
  }
 },
 "nbformat": 4,
 "nbformat_minor": 4
}
