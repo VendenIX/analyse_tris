{
 "cells": [
  {
   "cell_type": "markdown",
   "metadata": {},
   "source": [
    "<center><h1>Analyse du Tri Comptage</h1></center>"
   ]
  },
  {
   "cell_type": "markdown",
   "metadata": {},
   "source": [
    "Dans ce document nous analyser les résultats de l'algorithme Tri comptage afin de déterminer les conditions dans lesquelles l'algorithme est le plus performant."
   ]
  },
  {
   "cell_type": "markdown",
   "metadata": {},
   "source": [
    "## Analyse théorique "
   ]
  },
  {
   "cell_type": "markdown",
   "metadata": {},
   "source": [
    "Avant d'analyser le résultat de nos expérimentations sur cet algorithme, nous allons étudier la complexité du Tri comptage."
   ]
  },
  {
   "cell_type": "markdown",
   "metadata": {},
   "source": [
    "Algorithme TriComptage :\n",
    "\n",
    "    fonction triComptage(tableau T, taille N):\n",
    "        borneSup = T[0]\n",
    "        Pour i allant de 0 à N-1 Faire\n",
    "            Si T[i] > borneSup Alors\n",
    "                borneSup = T[i]\n",
    "        tabComptage = []\n",
    "        Pour i allant de 0 à borneSup Faire\n",
    "            tabComptage[i] = 0\n",
    "            \n",
    "        Pour i allant de 0 à N-1 Faire\n",
    "            tabComptage[T[i]] = tabComptage[[T[i]] + 1\n",
    "            \n",
    "        N = borneSup+1\n",
    "        cpt = 0\n",
    "        \n",
    "        Pour i allant de 0 à N Faire\n",
    "            Pour j allant de 0 à tabComptage[T[i]] Faire\n",
    "                T[cpt] = i\n",
    "                cpt += 1\n",
    "        retourner tab\n",
    "            "
   ]
  },
  {
   "cell_type": "markdown",
   "metadata": {},
   "source": [
    "La fonction triComptage utilise plusieurs boucles simples pour créer le tableau qui compte le nombre d'éléments de valeur i, et deux boucles imbriquées pour reconstituer le tableau dans l'ordre.\n",
    "\n",
    "Cependant, le dernier \"Pour j allant de 0 à tabComptage[[i]] Faire\" n'effectue d'action que lorsque tabComptage[[i]] est différent de zéro.\n",
    "\n",
    "On peut alors dire qu'avec la première boucle notre complexité est de O(n) où n est la taille de notre tableau à trier.\n",
    "\n",
    "Néanmoins, dans la seconde boucle on crée un tableau de taille m où m est le maximum de notre tableau.\n",
    "\n",
    "Ainsi, la complexité en temps de notre algorithme sera de O(n+m).\n",
    "\n",
    "Et la complexité en espace sera de taille O(m).\n"
   ]
  }
 ],
 "metadata": {
  "kernelspec": {
   "display_name": "Python 3 (ipykernel)",
   "language": "python",
   "name": "python3"
  },
  "language_info": {
   "codemirror_mode": {
    "name": "ipython",
    "version": 3
   },
   "file_extension": ".py",
   "mimetype": "text/x-python",
   "name": "python",
   "nbconvert_exporter": "python",
   "pygments_lexer": "ipython3",
   "version": "3.8.10"
  }
 },
 "nbformat": 4,
 "nbformat_minor": 4
}
