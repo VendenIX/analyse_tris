{
 "cells": [
  {
   "cell_type": "markdown",
   "metadata": {},
   "source": [
    "<center><h1>Analyse du TimSort</h1></center>"
   ]
  },
  {
   "cell_type": "markdown",
   "metadata": {},
   "source": [
    "Dans ce document nous analyser les résultats de l'algorithme TimSort afin de déterminer les conditions dans lesquelles l'algorithme est le plus performant."
   ]
  },
  {
   "cell_type": "markdown",
   "metadata": {},
   "source": [
    "## Analyse théorique "
   ]
  },
  {
   "cell_type": "markdown",
   "metadata": {},
   "source": [
    "Avant d'analyser le résultat de nos expérimentations sur cet algorithme, nous allons étudier la complexité du TimSort."
   ]
  },
  {
   "cell_type": "markdown",
   "metadata": {},
   "source": [
    "Algorithme TimSort :\n",
    "\n",
    "    fonction fusionTableau(tableau A, tableau B):\n",
    "        entier n1 = taille(A)\n",
    "        entier n2 = taille(B)\n",
    "        entier i1,i2 = 0\n",
    "        tableau resultat = []\n",
    "        Tant que taille(resultat) < n1 + n2 Faire\n",
    "            Si i1 >= n1 Alors\n",
    "                tab.ajoute(B[i2])\n",
    "                i2 += 1\n",
    "            Sinon Si i2 >= n2:\n",
    "                tab.ajoute(A[i1])\n",
    "                i1 += 1\n",
    "            Sinon Si A[i1] <= B[i2] Alors\n",
    "                tab.ajoute(A[i1])\n",
    "                i1 += 1\n",
    "            Sinon \n",
    "                tab.ajoute(B[i2])\n",
    "                i2 += 1\n",
    "        renvoyer resultat\n",
    "\n",
    "    fonction timSort(tableau T, taille N):\n",
    "        TAILLE_RUN = 32\n",
    "        Si N <= 1 Alors\n",
    "            renvoyer T\n",
    "        Pour debut allant de 0 à N-1 avec un pas de TAILLE_RUN Faire\n",
    "            fin = min(debut + TAILLE_RUN, N-1)\n",
    "            insertionSort(T[debut:fin])\n",
    "        Pour tailleTri allant de TAILLE_RUN à N-1 avec un pas de\n",
    "        tailleTri Faire\n",
    "            Pour tabGauche allant de 0 à N-1 avec un pas de\n",
    "            2*tailleTri Faire\n",
    "                tabMilieu = tabGauche + tailleTri\n",
    "                tabDroite = min(tabGauche + 2*tailleTri,N-1)\n",
    "                Si tabMilieu < tabDroite Faire\n",
    "                    T[tabGauche:tabDroite] = fusionTableau(T[tabGauche : tabMilieu], T[tabMilieu:tabDroite])\n",
    "        \n",
    "Source : https://www.youtube.com/watch?v=GhP5WbE4GYo"
   ]
  },
  {
   "cell_type": "markdown",
   "metadata": {},
   "source": [
    "La fonction TimSort utilise la fonction fusionTableau. On peut donc commencer par analyser celle-ci.\n",
    "\n",
    "La fonction fusionTableau réalise une seule boucle de taille n où n est la somme de des tailles des deux tableaux à fusionner. Dans ce cas, la fonction sera de l'ordre de O(n) qui sera, dans le pire des cas, la taille de notre tableau donné à trier.\n",
    "\n",
    "La fonction TimSort va utiliser l'algorithme de triInsertion sur des \"runs\" qui sont parties du tableau. Ici on a choisi de faire des parties de tableau de taille 32, ce choix est arbitraire dans la mesure où le tri est assez efficace lorsque l'on choisi des parties dont les tailles sont des puissances de 2.\n",
    "\n",
    "Une fois triées, nous allons fusionner ces runs à l'aide de l'algorithme de fusion utilisé dans le triFusion.\n",
    "\n",
    "De cette façon, on obtient l'algorithme précédent qui effectue un insertionSort sur (N//32)+1 parties de taille 32 ce qui donne une complexité dans le pire des cas de O(32*N) donc O(N).\n",
    "\n",
    "Ensuite, on effectue une Fusion de tous les tableaux à l'aide de l'algorithme de fusion du triFusion pour trier nos données dans le tableau principal l'algorithme de fusion est en O(N) et il est effectué pour chaque puissance de 2 allant de 32 à la taille de l'échantillon N.\n",
    "\n",
    "Ce qui fait que cette reconstitution a une complexité de O(N*logN)\n",
    "\n",
    "\n"
   ]
  }
 ],
 "metadata": {
  "kernelspec": {
   "display_name": "Python 3 (ipykernel)",
   "language": "python",
   "name": "python3"
  },
  "language_info": {
   "codemirror_mode": {
    "name": "ipython",
    "version": 3
   },
   "file_extension": ".py",
   "mimetype": "text/x-python",
   "name": "python",
   "nbconvert_exporter": "python",
   "pygments_lexer": "ipython3",
   "version": "3.8.10"
  }
 },
 "nbformat": 4,
 "nbformat_minor": 4
}
