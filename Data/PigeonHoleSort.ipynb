{
 "cells": [
  {
   "cell_type": "markdown",
   "metadata": {},
   "source": [
    "<center><h1>Analyse du PigeonHoleSort</h1></center>"
   ]
  },
  {
   "cell_type": "markdown",
   "metadata": {},
   "source": [
    "Dans ce document nous analyser les résultats de l'algorithme PigeonHoleSort afin de déterminer les conditions dans lesquelles l'algorithme est le plus performant."
   ]
  },
  {
   "cell_type": "markdown",
   "metadata": {},
   "source": [
    "## Analyse théorique "
   ]
  },
  {
   "cell_type": "markdown",
   "metadata": {},
   "source": [
    "Avant d'analyser le résultat de nos expérimentations sur cet algorithme, nous allons étudier la complexité du PigeonHoleSort."
   ]
  },
  {
   "cell_type": "markdown",
   "metadata": {},
   "source": [
    "Algorithme PigeonHoleSort :\n",
    "    \n",
    "    fonction pigeonHoleSort(tableau T, taille N):\n",
    "    \n",
    "    borneSup,borneMin = T[0]\n",
    "    Pour i allant de 0 à N-1 Faire\n",
    "        Si T[i] < borneMin Alors\n",
    "            borneMin = T[i] \n",
    "        Si T[i] > borneSup Alors\n",
    "            borneSup = T[i]\n",
    "    longueur = borneSup - borneMin +1\n",
    "    \n",
    "    tabComptage = [longueur][]\n",
    "    Pour i allant de 0 à N-1 Faire\n",
    "        tabComptage[T[i]-min].add(T[i])\n",
    "        \n",
    "    index = 0\n",
    "\n",
    "    Pour i allant de 0 à longueur-1 Faire\n",
    "        Pour j allant de 0 à taille(T[i]) Faire\n",
    "            T[index++] = tabComptage[i][j]\n",
    "    \n",
    "    \n",
    "Source : https://www.youtube.com/watch?v=nVQz0kZNC64"
   ]
  },
  {
   "cell_type": "markdown",
   "metadata": {},
   "source": [
    "La fonction pigeonHoleSort est une fonction de tri en place, cependant elle crée un tableau de taille longueur qui est la différence entre les deux bornes des valeurs dans le tableau.\n",
    "\n",
    "Ce tableau de taille longueur, peut aussi contenir un tableau de taille N où N est la taille du tableau à trier, dans le cas où le tableau ne contient qu'une valeur mais répétée N fois.\n",
    "\n",
    "Ainsi, sa complexité en espace est de O(N+m) où N est la taille du tableau en entrée et m la différence entre la valeur maximale et minimale.\n",
    "\n",
    "Pour la complexité en temps, la fonction parcours deux fois le tableau d'entrée de longueur N et une fois le tableau de comptage de longueur m avec des boucles \"Pour\". De cette façon, on peut dire que sa complexité est de O(N+m).\n",
    "\n",
    "Le défaut de cet algorithme est que lorsque les données ont une grande différence au niveau des valeurs la complexité est très grande. Par exemple, l'espace requis pour trier [0,100 000] est de l'ordre de 100 000 car l'algorithme va générer un tableau de taille 100 000 - 0, alors que le tableau ne contient que deux éléments et qu'il est déjà trié. \n"
   ]
  }
 ],
 "metadata": {
  "kernelspec": {
   "display_name": "Python 3 (ipykernel)",
   "language": "python",
   "name": "python3"
  },
  "language_info": {
   "codemirror_mode": {
    "name": "ipython",
    "version": 3
   },
   "file_extension": ".py",
   "mimetype": "text/x-python",
   "name": "python",
   "nbconvert_exporter": "python",
   "pygments_lexer": "ipython3",
   "version": "3.8.10"
  }
 },
 "nbformat": 4,
 "nbformat_minor": 4
}
