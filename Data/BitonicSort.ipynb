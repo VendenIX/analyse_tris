{
 "cells": [
  {
   "cell_type": "markdown",
   "metadata": {},
   "source": [
    "<center><h1>Analyse du Bitonic sort</h1></center>"
   ]
  },
  {
   "cell_type": "markdown",
   "metadata": {},
   "source": [
    "Dans ce document nous analyser les résultats de l'algorithme Bitonic sort afin de déterminer les conditions dans lesquelles l'algorithme est le plus performant."
   ]
  },
  {
   "cell_type": "markdown",
   "metadata": {},
   "source": [
    "## Analyse théorique "
   ]
  },
  {
   "cell_type": "markdown",
   "metadata": {},
   "source": [
    "Avant d'analyser le résultat de nos expérimentations sur cet algorithme, nous allons étudier la complexité du Bitonic sort.\n",
    "\n",
    "Avant cela, présentons l'algorithme :\n",
    "\n",
    "Bitonic sort est un tri basé sur la comparaison qui est plus efficace quand il est utilisé de manière parallélisé.\n",
    "\n",
    "L'algorithme fonctionne grâce à une séquence bitonique qui est une séquence de nombres qui sont soit tous croissants ou tous décroissants.\n",
    "\n",
    "Une suite de n éléments x0, x1, .., xn est appelée suite suite bitonique si elle remplit l'une des deux conditions suivantes:\n",
    "1. Il existe un indice i tel que x0,x1,..,xi monotone non décroissant et xi,xi+1,..,xn monotone non croissant.\n",
    "2. Nous pouvons décaler cycliquement la séquence pour qu'elle satisfasse la condition 1.\n",
    "\n",
    "Par exemple, le tableau [1,11,23,45,36,31,20,8] est une séquence bitonique. Sa monotonie change à 45 : \n",
    "1 <= 1 <= 23 <= 45 et 45 >= 36 >= 31 >= 20 >= 8.\n",
    "\n",
    "Pour que le Bitonic sort fonctionne efficacement, il faut que le nombre d'éléments dans le tableau d'entrée soit une puissance de 2. Cela est dû au fait que l'algorithme est basé sur la comparaison de deux éléments à la fois.\n",
    "Si ce n'est pas le cas dans notre jeu de données, on peut compléter le tableau avec 2^log2(n) - n éléments avec log2(n) à la borne supérieure et après le tri on peut supprimer les n premiers éléments puisque tous les éléments supplémentaires sont plus grands.\n",
    "\n",
    "Cet algorithme execute donc 2 procédures.\n",
    "En premier il convertit de manière récursive le tableau d'entrée en une séquence bitonique.\n",
    "Ensuite il fusionne les deux moitiés monotones d'une manière qui trie l'ensemble du tableau.\n",
    "\n",
    "La fusion est simple, nous comparons le premier élément de la première moitié avec le premier élément de la seconde moitié, puis le deuxième élémen de la première moitié avec le deuxième élément de la seconde moitié et ainsi de suite.\n",
    "Et on n'échange les éléments que si celui de la seconde moitié est plus petit.\n",
    "\n",
    "\n"
   ]
  },
  {
   "cell_type": "markdown",
   "metadata": {},
   "source": [
    "Algorithme de tri Bitonique : \n",
    "    # Nous supposons que taille(arr) est une puissance de 2\n",
    "    # La variable direction stocke le sens du tri, #initialement \"ascendant\"\n",
    "\n",
    "    fonction BitonicSort(arr, direction):\n",
    "        n = taille(arr)\n",
    "        si n > 1 alors\n",
    "            # Tri la première moitié du tableau dans l'ordre croissant\n",
    "            BitonicSort(arr[1:n/2], \"ascendant\")\n",
    "            # Tri la seconde moitié du tableau dans l'ordre décroissant\n",
    "            BitonicSort(arr[(n/2+1): n], \"descendant\")\n",
    "            # Fusionne les deux moitiés\n",
    "            Fusion(arr, direction)\n",
    "    \n",
    "    fonction Fusion(arr, direction):\n",
    "        n = taille(arr)\n",
    "        si n > 1 alors\n",
    "            pour i = 1,2,..,n/2 faire\n",
    "                si arr[i] et arr[i+n/2] ne sont pas dans le bon ordre\n",
    "                    échanger arr[i] avec arr[i+n/2]\n",
    "            Fusion(arr[1:n/2], direction)\n",
    "            Fusion(arr[(n/2+1): n], direction)\n"
   ]
  },
  {
   "cell_type": "markdown",
   "metadata": {},
   "source": [
    "Il y a log2(n) appels récursifs à la fonction BitonicSort, chaque appel réduit de moitié la taille d'entrée.\n",
    "\n",
    "Fusion fait n/2 log2(n) comparaisons. La fusion compare n/2 les paires, puis n/4 les paires dans l'une et n/4 les paires dans l'auter sous-séquence, etc:\n",
    "\n",
    "n/2 + 2 * n/4 + 4 * n/8 + ... + n/2 *1 = n/2^log2(n) \n",
    "\n",
    "Ce qui nous donne une compléxité temporelle en O(n(log n)^2).\n",
    "\n",
    "La compléxité spaciale est en O(n) car nous utilisons un tableau temporaire pour stocker les éléments.\n",
    "\n",
    "Note importante: \n",
    "Le tri bitonique peut être parallelisé en raison de la séquence prédéfinie de comparaisons qui sont indépendantes des données qui doivent être triées.\n",
    "La compléxité temporelle de la version parallèle, éxécutée sur p processeurs, trie un tableau de n éléments en O(n/p(log n)²)\n",
    "Une implémentation parallèle via openMP est possible, nous pouvons utiliser la fonction omp_get_thread_num() pour obtenir le numéro du thread courant et la fonction omp_get_num_threads() pour obtenir le nombre total de threads et utiliser des sections parallèles pour diviser le travail."
   ]
  }
 ],
 "metadata": {
  "kernelspec": {
   "display_name": "Python 3 (ipykernel)",
   "language": "python",
   "name": "python3"
  },
  "language_info": {
   "codemirror_mode": {
    "name": "ipython",
    "version": 3
   },
   "file_extension": ".py",
   "mimetype": "text/x-python",
   "name": "python",
   "nbconvert_exporter": "python",
   "pygments_lexer": "ipython3",
   "version": "3.8.10"
  }
 },
 "nbformat": 4,
 "nbformat_minor": 4
}
