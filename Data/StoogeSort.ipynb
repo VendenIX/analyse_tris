{
 "cells": [
  {
   "cell_type": "markdown",
   "metadata": {},
   "source": [
    "<center><h1>Analyse du StoogeSort</h1></center>"
   ]
  },
  {
   "cell_type": "markdown",
   "metadata": {},
   "source": [
    "Dans ce document nous analyser les résultats de l'algorithme StoogeSort afin de déterminer les conditions dans lesquelles l'algorithme est le plus performant."
   ]
  },
  {
   "cell_type": "markdown",
   "metadata": {},
   "source": [
    "## Analyse théorique "
   ]
  },
  {
   "cell_type": "markdown",
   "metadata": {},
   "source": [
    "Avant d'analyser le résultat de nos expérimentations sur cet algorithme, nous allons étudier la complexité du StoogeSort."
   ]
  },
  {
   "cell_type": "markdown",
   "metadata": {},
   "source": [
    "Algorithme StoogeSort :\n",
    "    \n",
    "    fonction stoogeSort(tableau T,entier debut ,entier N):\n",
    "        i = debut\n",
    "        j = N-1\n",
    "        Si T[i] > T[j] Alors\n",
    "            echanger(T[i],T[j])\n",
    "        \n",
    "        Si (j - i + 1) > 2 Alors\n",
    "            tiers = (j-i+1)//3\n",
    "            stoogeSort(i,j-tiers)\n",
    "            stoogeSort(i+tiers,j)\n",
    "            stoogeSort(i,j-tiers)"
   ]
  },
  {
   "cell_type": "markdown",
   "metadata": {},
   "source": [
    "La fonction StoogeSort est une fonction de tri très inefficace, les nombreux appels récursifs font que sa complexité en espace est en O(n).\n",
    "\n",
    "Cependant sa complexité en temps est bien plus élevée.\n",
    "Pour l'analyser, nous allons utiliser le master Theorem.\n",
    "\n",
    "On peut écrire la complexité de cet algorithme, nommé ici T(n) où n est la taille du tableau, ainsi :\n",
    "    \n",
    "$$T(n) = 3T(\\frac{2n}{3})+ T(n)$$\n",
    "\n",
    "Or, si on fait $$\\log_3(2)= 1$$  qui est égal au degré de n dans la complexité de notre algorithme de reconstruction alors d'après le master theorem notre algorithme est de complexité O(nlog(n)).\n",
    "\n"
   ]
  }
 ],
 "metadata": {
  "kernelspec": {
   "display_name": "Python 3 (ipykernel)",
   "language": "python",
   "name": "python3"
  },
  "language_info": {
   "codemirror_mode": {
    "name": "ipython",
    "version": 3
   },
   "file_extension": ".py",
   "mimetype": "text/x-python",
   "name": "python",
   "nbconvert_exporter": "python",
   "pygments_lexer": "ipython3",
   "version": "3.8.10"
  }
 },
 "nbformat": 4,
 "nbformat_minor": 4
}
