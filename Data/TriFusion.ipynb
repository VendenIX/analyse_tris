{
 "cells": [
  {
   "cell_type": "markdown",
   "metadata": {},
   "source": [
    "<center><h1>Analyse du Tri Fusion</h1></center>"
   ]
  },
  {
   "cell_type": "markdown",
   "metadata": {},
   "source": [
    "Dans ce document nous analyser les résultats de l'algorithme Tri Fusion afin de déterminer les conditions dans lesquelles l'algorithme est le plus performant."
   ]
  },
  {
   "cell_type": "markdown",
   "metadata": {},
   "source": [
    "## Analyse théorique "
   ]
  },
  {
   "cell_type": "markdown",
   "metadata": {},
   "source": [
    "Avant d'analyser le résultat de nos expérimentations sur cet algorithme, nous allons étudier la complexité du Tri Fusion."
   ]
  },
  {
   "cell_type": "markdown",
   "metadata": {},
   "source": [
    "Algorithme TriFusion :\n",
    "    \n",
    "    fonction fusionTableau(tableau A, tableau B):\n",
    "        entier n1 = taille(A)\n",
    "        entier n2 = taille(B)\n",
    "        entier i1,i2 = 0\n",
    "        tableau resultat = []\n",
    "        Tant que taille(resultat) < n1 + n2 Faire\n",
    "            Si i1 >= n1 Alors\n",
    "                tab.ajoute(B[i2])\n",
    "                i2 += 1\n",
    "            Sinon Si i2 >= n2:\n",
    "                tab.ajoute(A[i1])\n",
    "                i1 += 1\n",
    "            Sinon Si A[i1] <= B[i2] Alors\n",
    "                tab.ajoute(A[i1])\n",
    "                i1 += 1\n",
    "            Sinon \n",
    "                tab.ajoute(B[i2])\n",
    "                i2 += 1\n",
    "        renvoyer resultat\n",
    "\n",
    "    fonction triFusion(tableau T, taille N):\n",
    "        Si N <= 1 Alors\n",
    "            renvoyer T\n",
    "        tableau gauche = triFusion(T[N//2, ...],N//2)\n",
    "        tableau droite = triFusion(T[0,....,(N//2)-1],N//2)\n",
    "        return fusionTableau(gauche,droite)"
   ]
  },
  {
   "cell_type": "markdown",
   "metadata": {},
   "source": [
    "La fonction triFusion utilise la fonction fusionTableau. On peut donc commencer par analyser celle-ci.\n",
    "\n",
    "La fonction fusionTableau réalise une seule boucle de taille n où n est la somme de des tailles des deux tableaux à fusionner. Dans ce cas, la fonction sera de l'ordre de O(n) qui sera, dans le pire des cas, la taille de notre tableau donné à trier.\n",
    "\n",
    "La fonction triFusion est quant à elle une fonction de type diviser pour régner.\n",
    "\n",
    "En effet, la fonction triFusion fait un appel récursif d'elle même sur deux échantillons de taille n//2, en divisant la taille de l'échantillon on peut le trier plus rapidement avec une fonction de reconstruction en O(n), ici fusionTableau.\n",
    "\n",
    "On peut écrire la complexité de cet algorithme, nommé ici T(n) où n est la taille du tableau, ainsi :\n",
    "    \n",
    "$$T(n) = 2T(\\frac{n}{2})+ T(n)$$\n",
    "\n",
    "Or, si on fait $$\\log_2(2)= 1$$  qui est égal au degré de n dans la complexité de notre algorithme de reconstruction alors d'après le master theorem notre algorithme est de complexité O(nlog(n)).\n",
    "\n",
    "L'avantage de cet algorithme c'est qu'il ne reconnaît aucun meilleur ou pire cas. Cependant, ce tri n'est pas un tri en place, c'est à dire qu'il a besoin de recréer un tableau de taille n, contrairement à QuickSort.\n",
    "\n"
   ]
  }
 ],
 "metadata": {
  "kernelspec": {
   "display_name": "Python 3 (ipykernel)",
   "language": "python",
   "name": "python3"
  },
  "language_info": {
   "codemirror_mode": {
    "name": "ipython",
    "version": 3
   },
   "file_extension": ".py",
   "mimetype": "text/x-python",
   "name": "python",
   "nbconvert_exporter": "python",
   "pygments_lexer": "ipython3",
   "version": "3.8.10"
  }
 },
 "nbformat": 4,
 "nbformat_minor": 4
}
